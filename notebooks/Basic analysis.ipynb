{
 "cells": [
  {
   "cell_type": "code",
   "execution_count": 4,
   "id": "2046bf2c",
   "metadata": {},
   "outputs": [],
   "source": [
    "import pandas as pd"
   ]
  },
  {
   "cell_type": "code",
   "execution_count": 6,
   "id": "bd00e36c",
   "metadata": {},
   "outputs": [],
   "source": [
    "df = pd.read_csv(\n",
    "    '../data/events.csv'\n",
    ")"
   ]
  },
  {
   "cell_type": "code",
   "execution_count": 8,
   "id": "64019057",
   "metadata": {},
   "outputs": [
    {
     "data": {
      "text/html": [
       "<div>\n",
       "<style scoped>\n",
       "    .dataframe tbody tr th:only-of-type {\n",
       "        vertical-align: middle;\n",
       "    }\n",
       "\n",
       "    .dataframe tbody tr th {\n",
       "        vertical-align: top;\n",
       "    }\n",
       "\n",
       "    .dataframe thead th {\n",
       "        text-align: right;\n",
       "    }\n",
       "</style>\n",
       "<table border=\"1\" class=\"dataframe\">\n",
       "  <thead>\n",
       "    <tr style=\"text-align: right;\">\n",
       "      <th></th>\n",
       "      <th>Rank</th>\n",
       "      <th>Time</th>\n",
       "      <th>Name</th>\n",
       "      <th>Country</th>\n",
       "      <th>Date of Birth</th>\n",
       "      <th>Place</th>\n",
       "      <th>City</th>\n",
       "      <th>Date</th>\n",
       "      <th>Gender</th>\n",
       "      <th>Event</th>\n",
       "    </tr>\n",
       "  </thead>\n",
       "  <tbody>\n",
       "    <tr>\n",
       "      <th>0</th>\n",
       "      <td>1</td>\n",
       "      <td>2:00:35</td>\n",
       "      <td>Kelvin Kiptum</td>\n",
       "      <td>KEN</td>\n",
       "      <td>02.12.99</td>\n",
       "      <td>1</td>\n",
       "      <td>Chicago</td>\n",
       "      <td>08.10.2023</td>\n",
       "      <td>Men</td>\n",
       "      <td>Marathon</td>\n",
       "    </tr>\n",
       "    <tr>\n",
       "      <th>1</th>\n",
       "      <td>2</td>\n",
       "      <td>2:01:09</td>\n",
       "      <td>Eliud Kipchoge</td>\n",
       "      <td>KEN</td>\n",
       "      <td>05.11.84</td>\n",
       "      <td>1</td>\n",
       "      <td>Berlin</td>\n",
       "      <td>25.09.2022</td>\n",
       "      <td>Men</td>\n",
       "      <td>Marathon</td>\n",
       "    </tr>\n",
       "    <tr>\n",
       "      <th>2</th>\n",
       "      <td>3</td>\n",
       "      <td>2:01:25</td>\n",
       "      <td>Kelvin Kiptum</td>\n",
       "      <td>KEN</td>\n",
       "      <td>02.12.99</td>\n",
       "      <td>1</td>\n",
       "      <td>London</td>\n",
       "      <td>23.04.2023</td>\n",
       "      <td>Men</td>\n",
       "      <td>Marathon</td>\n",
       "    </tr>\n",
       "    <tr>\n",
       "      <th>3</th>\n",
       "      <td>4</td>\n",
       "      <td>2:01:39</td>\n",
       "      <td>Eliud Kipchoge</td>\n",
       "      <td>KEN</td>\n",
       "      <td>05.11.84</td>\n",
       "      <td>1</td>\n",
       "      <td>Berlin</td>\n",
       "      <td>16.09.2018</td>\n",
       "      <td>Men</td>\n",
       "      <td>Marathon</td>\n",
       "    </tr>\n",
       "    <tr>\n",
       "      <th>4</th>\n",
       "      <td>5</td>\n",
       "      <td>2:01:41</td>\n",
       "      <td>Kenenisa Bekele</td>\n",
       "      <td>ETH</td>\n",
       "      <td>13.06.82</td>\n",
       "      <td>1</td>\n",
       "      <td>Berlin</td>\n",
       "      <td>29.09.2019</td>\n",
       "      <td>Men</td>\n",
       "      <td>Marathon</td>\n",
       "    </tr>\n",
       "  </tbody>\n",
       "</table>\n",
       "</div>"
      ],
      "text/plain": [
       "   Rank     Time             Name Country Date of Birth  Place     City  \\\n",
       "0     1  2:00:35    Kelvin Kiptum     KEN      02.12.99      1  Chicago   \n",
       "1     2  2:01:09   Eliud Kipchoge     KEN      05.11.84      1   Berlin   \n",
       "2     3  2:01:25    Kelvin Kiptum     KEN      02.12.99      1   London   \n",
       "3     4  2:01:39   Eliud Kipchoge     KEN      05.11.84      1   Berlin   \n",
       "4     5  2:01:41  Kenenisa Bekele     ETH      13.06.82      1   Berlin   \n",
       "\n",
       "         Date Gender     Event  \n",
       "0  08.10.2023    Men  Marathon  \n",
       "1  25.09.2022    Men  Marathon  \n",
       "2  23.04.2023    Men  Marathon  \n",
       "3  16.09.2018    Men  Marathon  \n",
       "4  29.09.2019    Men  Marathon  "
      ]
     },
     "execution_count": 8,
     "metadata": {},
     "output_type": "execute_result"
    }
   ],
   "source": [
    "df.head()"
   ]
  },
  {
   "cell_type": "code",
   "execution_count": 10,
   "id": "cce17296",
   "metadata": {},
   "outputs": [],
   "source": [
    "df.to_json(\n",
    "    '../website/public/events.json', \n",
    "    orient='records',\n",
    "    indent=2,\n",
    ")"
   ]
  },
  {
   "cell_type": "code",
   "execution_count": null,
   "id": "a7966f5a",
   "metadata": {},
   "outputs": [],
   "source": []
  }
 ],
 "metadata": {
  "kernelspec": {
   "display_name": "Python 3 (ipykernel)",
   "language": "python",
   "name": "python3"
  },
  "language_info": {
   "codemirror_mode": {
    "name": "ipython",
    "version": 3
   },
   "file_extension": ".py",
   "mimetype": "text/x-python",
   "name": "python",
   "nbconvert_exporter": "python",
   "pygments_lexer": "ipython3",
   "version": "3.11.8"
  }
 },
 "nbformat": 4,
 "nbformat_minor": 5
}
